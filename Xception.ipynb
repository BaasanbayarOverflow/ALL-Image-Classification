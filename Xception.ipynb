{
 "cells": [
  {
   "cell_type": "code",
   "execution_count": 1,
   "metadata": {},
   "outputs": [],
   "source": [
    "import os \n",
    "import cv2\n",
    "import numpy as np\n",
    "import pandas as pd\n",
    "import matplotlib.pyplot as plt\n",
    "import seaborn as sns\n",
    "import tensorflow as tf\n",
    "\n",
    "from glob import glob\n",
    "from tqdm import tqdm "
   ]
  },
  {
   "cell_type": "code",
   "execution_count": 2,
   "metadata": {},
   "outputs": [],
   "source": [
    "path_main = r'.\\Acute lymphoblastic leukemia\\C-NMC_Leukemia'\n",
    "path_training = os.path.join(path_main, 'training_data')\n",
    "path_testing = os.path.join(path_main, 'testing_data')\n",
    "path_validation = os.path.join(path_main, 'validation_data')"
   ]
  },
  {
   "cell_type": "code",
   "execution_count": 3,
   "metadata": {},
   "outputs": [],
   "source": [
    "path_to_all_cells = os.path.join(path_training, 'all')\n",
    "path_to_hem_cells = os.path.join(path_training, 'hem')\n",
    "\n",
    "images_all_cells = glob(path_to_all_cells + '\\\\*.*')\n",
    "images_hem_cells = glob(path_to_hem_cells + '\\\\*.*')\n",
    "\n",
    "path_to_all_cells_validation = os.path.join(path_validation, 'all')\n",
    "path_to_hem_cells_validation = os.path.join(path_validation, 'hem')\n",
    "\n",
    "images_all_cells_validation = glob(path_to_all_cells_validation + '\\\\*.*')\n",
    "images_hem_cells_validation = glob(path_to_hem_cells_validation + '\\\\*.*')"
   ]
  },
  {
   "cell_type": "code",
   "execution_count": 4,
   "metadata": {},
   "outputs": [],
   "source": [
    "images_list = [x for x in images_all_cells]\n",
    "images_list.extend([x for x in images_hem_cells])\n",
    "\n",
    "dataframe = pd.DataFrame(np.concatenate([\n",
    "    ['0'] * len(images_all_cells),\n",
    "    ['1'] * len(images_hem_cells),\n",
    "]), columns=['label'])\n",
    "\n",
    "dataframe['image'] = [x for x in images_list]\n",
    "dataframe.head()\n",
    "\n",
    "images_list_validation = [x for x in images_all_cells_validation]\n",
    "images_list_validation.extend([x for x in images_hem_cells_validation])\n",
    "\n",
    "dataframe_validation = pd.DataFrame(np.concatenate([\n",
    "    ['0'] * len(images_all_cells_validation),\n",
    "    ['1'] * len(images_hem_cells_validation),\n",
    "]), columns=['label'])\n",
    "\n",
    "dataframe_validation['image'] = [x for x in images_list_validation]"
   ]
  },
  {
   "cell_type": "code",
   "execution_count": 5,
   "metadata": {},
   "outputs": [
    {
     "data": {
      "text/html": [
       "<div>\n",
       "<style scoped>\n",
       "    .dataframe tbody tr th:only-of-type {\n",
       "        vertical-align: middle;\n",
       "    }\n",
       "\n",
       "    .dataframe tbody tr th {\n",
       "        vertical-align: top;\n",
       "    }\n",
       "\n",
       "    .dataframe thead th {\n",
       "        text-align: right;\n",
       "    }\n",
       "</style>\n",
       "<table border=\"1\" class=\"dataframe\">\n",
       "  <thead>\n",
       "    <tr style=\"text-align: right;\">\n",
       "      <th></th>\n",
       "      <th>label</th>\n",
       "      <th>image</th>\n",
       "    </tr>\n",
       "  </thead>\n",
       "  <tbody>\n",
       "    <tr>\n",
       "      <th>0</th>\n",
       "      <td>1</td>\n",
       "      <td>F:\\Django\\Acute lymphoblastic leukemia\\C-NMC_L...</td>\n",
       "    </tr>\n",
       "    <tr>\n",
       "      <th>1</th>\n",
       "      <td>1</td>\n",
       "      <td>F:\\Django\\Acute lymphoblastic leukemia\\C-NMC_L...</td>\n",
       "    </tr>\n",
       "    <tr>\n",
       "      <th>2</th>\n",
       "      <td>1</td>\n",
       "      <td>F:\\Django\\Acute lymphoblastic leukemia\\C-NMC_L...</td>\n",
       "    </tr>\n",
       "    <tr>\n",
       "      <th>3</th>\n",
       "      <td>1</td>\n",
       "      <td>F:\\Django\\Acute lymphoblastic leukemia\\C-NMC_L...</td>\n",
       "    </tr>\n",
       "    <tr>\n",
       "      <th>4</th>\n",
       "      <td>1</td>\n",
       "      <td>F:\\Django\\Acute lymphoblastic leukemia\\C-NMC_L...</td>\n",
       "    </tr>\n",
       "  </tbody>\n",
       "</table>\n",
       "</div>"
      ],
      "text/plain": [
       "  label                                              image\n",
       "0     1  F:\\Django\\Acute lymphoblastic leukemia\\C-NMC_L...\n",
       "1     1  F:\\Django\\Acute lymphoblastic leukemia\\C-NMC_L...\n",
       "2     1  F:\\Django\\Acute lymphoblastic leukemia\\C-NMC_L...\n",
       "3     1  F:\\Django\\Acute lymphoblastic leukemia\\C-NMC_L...\n",
       "4     1  F:\\Django\\Acute lymphoblastic leukemia\\C-NMC_L..."
      ]
     },
     "execution_count": 5,
     "metadata": {},
     "output_type": "execute_result"
    }
   ],
   "source": [
    "dataframe_training = dataframe.sample(frac=1, random_state=42).reset_index(drop=True)\n",
    "dataframe_training.head()\n",
    "\n",
    "dataframe_validation = dataframe_validation.sample(frac=1, random_state=42).reset_index(drop=True)\n",
    "dataframe_validation.head()"
   ]
  },
  {
   "cell_type": "code",
   "execution_count": 6,
   "metadata": {},
   "outputs": [],
   "source": [
    "from sklearn.preprocessing import LabelEncoder\n",
    "\n",
    "encoder = LabelEncoder()\n",
    "y_train = encoder.fit_transform(dataframe_training['label'])\n",
    "y_validation = encoder.fit_transform(dataframe_validation['label'])"
   ]
  },
  {
   "cell_type": "code",
   "execution_count": 7,
   "metadata": {},
   "outputs": [
    {
     "name": "stderr",
     "output_type": "stream",
     "text": [
      "100%|██████████| 5088/5088 [04:35<00:00, 18.49it/s]\n",
      "100%|██████████| 1690/1690 [02:01<00:00, 13.91it/s]\n"
     ]
    }
   ],
   "source": [
    "images = dataframe_training['image']\n",
    "images_testing = dataframe_validation['image']\n",
    "X_train = []\n",
    "X_validation = []\n",
    "\n",
    "for image in tqdm(images):\n",
    "    image = cv2.imread(image)\n",
    "    image = cv2.resize(image, (200, 200))\n",
    "    image = image / 255\n",
    "    X_train.append(image)\n",
    "    \n",
    "for image in tqdm(images_testing):\n",
    "    image = cv2.imread(image)\n",
    "    image = cv2.resize(image, (200, 200))\n",
    "    image = image / 255\n",
    "    X_validation.append(image)"
   ]
  },
  {
   "cell_type": "code",
   "execution_count": 8,
   "metadata": {},
   "outputs": [],
   "source": [
    "X_train = np.array(X_train, dtype=np.float16)\n",
    "X_validation = np.array(X_validation, dtype=np.float16)"
   ]
  },
  {
   "cell_type": "code",
   "execution_count": 9,
   "metadata": {},
   "outputs": [
    {
     "name": "stdout",
     "output_type": "stream",
     "text": [
      "X_train shape: (5088, 200, 200, 3)\n",
      "X_validation shape: (1690, 200, 200, 3)\n",
      "y_train shape: (5088,)\n",
      "y_validation shape: (1690,)\n"
     ]
    }
   ],
   "source": [
    "print(f'X_train shape: {X_train.shape}')\n",
    "print(f'X_validation shape: {X_validation.shape}')\n",
    "print(f'y_train shape: {y_train.shape}')\n",
    "print(f'y_validation shape: {y_validation.shape}')"
   ]
  },
  {
   "cell_type": "code",
   "execution_count": 10,
   "metadata": {},
   "outputs": [],
   "source": [
    "from tensorflow.keras.optimizers import SGD\n",
    "from tensorflow.keras.optimizers import Adam\n",
    "from tensorflow.keras.optimizers import RMSprop\n",
    "from tensorflow.keras.losses import BinaryCrossentropy\n",
    "from tensorflow.keras.models import Model\n",
    "from tensorflow.keras.layers import Dense\n",
    "from tensorflow.keras.layers import GlobalAveragePooling2D\n",
    "from tensorflow.keras.applications import xception\n",
    "from sklearn.metrics import accuracy_score\n",
    "from sklearn.metrics import confusion_matrix\n",
    "from sklearn.metrics import classification_report"
   ]
  },
  {
   "cell_type": "code",
   "execution_count": 11,
   "metadata": {},
   "outputs": [],
   "source": [
    "def modelXception():\n",
    "    base = xception.Xception(include_top=False, weights='imagenet', input_shape=(200, 200, 3))\n",
    "    x = base.output\n",
    "    x = GlobalAveragePooling2D()(x)\n",
    "    output_layer = Dense(1, activation='sigmoid')(x)\n",
    "    model = Model(inputs=base.input, outputs=output_layer)\n",
    "    \n",
    "    model.compile(optimizer=SGD(learning_rate=0.001, decay=1e-6, momentum=0.6, nesterov=True),\n",
    "                     loss=BinaryCrossentropy(), \n",
    "                         metrics=['accuracy'])\n",
    "    return model"
   ]
  },
  {
   "cell_type": "code",
   "execution_count": 12,
   "metadata": {},
   "outputs": [],
   "source": [
    "model = modelXception()"
   ]
  },
  {
   "cell_type": "code",
   "execution_count": 16,
   "metadata": {},
   "outputs": [
    {
     "name": "stdout",
     "output_type": "stream",
     "text": [
      "Epoch 1/10\n",
      "  2/318 [..............................] - ETA: 1:52 - loss: 0.7027 - accuracy: 0.5625WARNING:tensorflow:Callbacks method `on_train_batch_end` is slow compared to the batch time (batch time: 0.0359s vs `on_train_batch_end` time: 0.5974s). Check your callbacks.\n",
      "318/318 [==============================] - 243s 765ms/step - loss: 0.5588 - accuracy: 0.7337 - val_loss: 0.6856 - val_accuracy: 0.5651\n",
      "Epoch 2/10\n",
      "318/318 [==============================] - 328s 1s/step - loss: 0.3952 - accuracy: 0.8312 - val_loss: 0.7206 - val_accuracy: 0.6219\n",
      "Epoch 3/10\n",
      "318/318 [==============================] - 234s 737ms/step - loss: 0.3229 - accuracy: 0.8664 - val_loss: 0.6371 - val_accuracy: 0.6704\n",
      "Epoch 4/10\n",
      "318/318 [==============================] - 269s 845ms/step - loss: 0.2599 - accuracy: 0.8949 - val_loss: 0.6010 - val_accuracy: 0.7225\n",
      "Epoch 5/10\n",
      "318/318 [==============================] - 292s 918ms/step - loss: 0.1996 - accuracy: 0.9255 - val_loss: 0.6283 - val_accuracy: 0.7148\n",
      "Epoch 6/10\n",
      "318/318 [==============================] - 421s 1s/step - loss: 0.1687 - accuracy: 0.9391 - val_loss: 0.6541 - val_accuracy: 0.7266\n",
      "Epoch 7/10\n",
      "318/318 [==============================] - 516s 2s/step - loss: 0.1264 - accuracy: 0.9546 - val_loss: 0.7205 - val_accuracy: 0.7065\n",
      "Epoch 8/10\n",
      "318/318 [==============================] - 453s 1s/step - loss: 0.0996 - accuracy: 0.9688 - val_loss: 0.6974 - val_accuracy: 0.7124\n",
      "Epoch 9/10\n",
      "318/318 [==============================] - 391s 1s/step - loss: 0.0864 - accuracy: 0.9715 - val_loss: 0.6739 - val_accuracy: 0.7473\n",
      "Epoch 10/10\n",
      "318/318 [==============================] - 309s 970ms/step - loss: 0.0641 - accuracy: 0.9821 - val_loss: 0.6939 - val_accuracy: 0.7314\n"
     ]
    }
   ],
   "source": [
    "history = model.fit(X_train, y_train, epochs=10, batch_size=16, validation_data=(X_validation, y_validation), verbose=1)"
   ]
  },
  {
   "cell_type": "code",
   "execution_count": 17,
   "metadata": {},
   "outputs": [],
   "source": [
    "tf.keras.models.save_model(model, 'xception.h5')"
   ]
  },
  {
   "cell_type": "code",
   "execution_count": 18,
   "metadata": {},
   "outputs": [
    {
     "data": {
      "text/plain": [
       "<matplotlib.legend.Legend at 0x2755606ce50>"
      ]
     },
     "execution_count": 18,
     "metadata": {},
     "output_type": "execute_result"
    },
    {
     "data": {
      "image/png": "[encoded data removed]",
      "text/plain": [
       "<Figure size 1080x864 with 2 Axes>"
      ]
     },
     "metadata": {
      "needs_background": "light"
     },
     "output_type": "display_data"
    }
   ],
   "source": [
    "fig = plt.figure(figsize=(15, 12))\n",
    "ax1 = fig.add_subplot(211)\n",
    "ax1.grid(True)\n",
    "ax1.set_title('Cross Entropy Loss')\n",
    "ax1.plot(history.history['loss'], color='blue', label='train')\n",
    "ax1.plot(history.history['val_loss'], color='orange', label='test')\n",
    "ax1.legend()\n",
    "ax2 = fig.add_subplot(212)\n",
    "ax2.grid(True)\n",
    "ax2.set_title('Classification Accuracy')\n",
    "ax2.plot(history.history['accuracy'], color='blue', label='train')\n",
    "ax2.plot(history.history['val_accuracy'], color='orange', label='test')\n",
    "ax2.legend()"
   ]
  },
  {
   "cell_type": "code",
   "execution_count": 19,
   "metadata": {},
   "outputs": [
    {
     "data": {
      "text/html": [
       "<div>\n",
       "<style scoped>\n",
       "    .dataframe tbody tr th:only-of-type {\n",
       "        vertical-align: middle;\n",
       "    }\n",
       "\n",
       "    .dataframe tbody tr th {\n",
       "        vertical-align: top;\n",
       "    }\n",
       "\n",
       "    .dataframe thead th {\n",
       "        text-align: right;\n",
       "    }\n",
       "</style>\n",
       "<table border=\"1\" class=\"dataframe\">\n",
       "  <thead>\n",
       "    <tr style=\"text-align: right;\">\n",
       "      <th></th>\n",
       "      <th>Patient_ID</th>\n",
       "      <th>new_names</th>\n",
       "      <th>labels</th>\n",
       "    </tr>\n",
       "  </thead>\n",
       "  <tbody>\n",
       "    <tr>\n",
       "      <th>0</th>\n",
       "      <td>UID_57_29_1_all.bmp</td>\n",
       "      <td>1.bmp</td>\n",
       "      <td>1</td>\n",
       "    </tr>\n",
       "    <tr>\n",
       "      <th>1</th>\n",
       "      <td>UID_57_22_2_all.bmp</td>\n",
       "      <td>2.bmp</td>\n",
       "      <td>1</td>\n",
       "    </tr>\n",
       "    <tr>\n",
       "      <th>2</th>\n",
       "      <td>UID_57_31_3_all.bmp</td>\n",
       "      <td>3.bmp</td>\n",
       "      <td>1</td>\n",
       "    </tr>\n",
       "    <tr>\n",
       "      <th>3</th>\n",
       "      <td>UID_H49_35_1_hem.bmp</td>\n",
       "      <td>4.bmp</td>\n",
       "      <td>0</td>\n",
       "    </tr>\n",
       "    <tr>\n",
       "      <th>4</th>\n",
       "      <td>UID_58_6_13_all.bmp</td>\n",
       "      <td>5.bmp</td>\n",
       "      <td>1</td>\n",
       "    </tr>\n",
       "  </tbody>\n",
       "</table>\n",
       "</div>"
      ],
      "text/plain": [
       "             Patient_ID new_names  labels\n",
       "0   UID_57_29_1_all.bmp     1.bmp       1\n",
       "1   UID_57_22_2_all.bmp     2.bmp       1\n",
       "2   UID_57_31_3_all.bmp     3.bmp       1\n",
       "3  UID_H49_35_1_hem.bmp     4.bmp       0\n",
       "4   UID_58_6_13_all.bmp     5.bmp       1"
      ]
     },
     "execution_count": 19,
     "metadata": {},
     "output_type": "execute_result"
    }
   ],
   "source": [
    "dataframe_testing = pd.read_csv(path_testing + '\\C-NMC_test_prelim_phase_data_labels.csv')\n",
    "dataframe_testing.head()"
   ]
  },
  {
   "cell_type": "code",
   "execution_count": 20,
   "metadata": {},
   "outputs": [
    {
     "data": {
      "text/html": [
       "<div>\n",
       "<style scoped>\n",
       "    .dataframe tbody tr th:only-of-type {\n",
       "        vertical-align: middle;\n",
       "    }\n",
       "\n",
       "    .dataframe tbody tr th {\n",
       "        vertical-align: top;\n",
       "    }\n",
       "\n",
       "    .dataframe thead th {\n",
       "        text-align: right;\n",
       "    }\n",
       "</style>\n",
       "<table border=\"1\" class=\"dataframe\">\n",
       "  <thead>\n",
       "    <tr style=\"text-align: right;\">\n",
       "      <th></th>\n",
       "      <th>new_names</th>\n",
       "      <th>labels</th>\n",
       "    </tr>\n",
       "  </thead>\n",
       "  <tbody>\n",
       "    <tr>\n",
       "      <th>0</th>\n",
       "      <td>1.bmp</td>\n",
       "      <td>1</td>\n",
       "    </tr>\n",
       "    <tr>\n",
       "      <th>1</th>\n",
       "      <td>2.bmp</td>\n",
       "      <td>1</td>\n",
       "    </tr>\n",
       "    <tr>\n",
       "      <th>2</th>\n",
       "      <td>3.bmp</td>\n",
       "      <td>1</td>\n",
       "    </tr>\n",
       "    <tr>\n",
       "      <th>3</th>\n",
       "      <td>4.bmp</td>\n",
       "      <td>0</td>\n",
       "    </tr>\n",
       "    <tr>\n",
       "      <th>4</th>\n",
       "      <td>5.bmp</td>\n",
       "      <td>1</td>\n",
       "    </tr>\n",
       "  </tbody>\n",
       "</table>\n",
       "</div>"
      ],
      "text/plain": [
       "  new_names  labels\n",
       "0     1.bmp       1\n",
       "1     2.bmp       1\n",
       "2     3.bmp       1\n",
       "3     4.bmp       0\n",
       "4     5.bmp       1"
      ]
     },
     "execution_count": 20,
     "metadata": {},
     "output_type": "execute_result"
    }
   ],
   "source": [
    "dataframe_testing = dataframe_testing.drop(columns=['Patient_ID'])\n",
    "dataframe_testing.head()"
   ]
  },
  {
   "cell_type": "code",
   "execution_count": 33,
   "metadata": {},
   "outputs": [
    {
     "name": "stderr",
     "output_type": "stream",
     "text": [
      "100%|██████████| 1867/1867 [01:12<00:00, 25.64it/s] \n"
     ]
    }
   ],
   "source": [
    "path_to_testing_images = os.path.join(path_testing, 'C-NMC_test_prelim_phase_data')\n",
    "images_testing = []\n",
    "for image in tqdm(dataframe_testing['new_names']):\n",
    "    image = glob(path_to_testing_images + '/' + image)\n",
    "    image = cv2.imread(image[0])\n",
    "    image = cv2.resize(image, (200, 200))\n",
    "    images_testing.append(image)"
   ]
  },
  {
   "cell_type": "code",
   "execution_count": 39,
   "metadata": {},
   "outputs": [],
   "source": [
    "X_test = np.array(images_testing)\n",
    "X_test = X_test.reshape(X_test.shape[0], 200, 200, 3)"
   ]
  },
  {
   "cell_type": "code",
   "execution_count": 40,
   "metadata": {},
   "outputs": [
    {
     "data": {
      "text/plain": [
       "(1867,)"
      ]
     },
     "execution_count": 40,
     "metadata": {},
     "output_type": "execute_result"
    }
   ],
   "source": [
    "y_test = dataframe_testing['labels']\n",
    "y_test.shape"
   ]
  },
  {
   "cell_type": "code",
   "execution_count": 41,
   "metadata": {},
   "outputs": [],
   "source": [
    "prediction = model.predict(X_test)\n",
    "prediction_re = prediction.reshape(-1)\n",
    "y_test = y_test.astype(np.int32)\n",
    "prediction_re = prediction_re.astype(np.int32)"
   ]
  },
  {
   "cell_type": "code",
   "execution_count": 61,
   "metadata": {},
   "outputs": [
    {
     "data": {
      "text/plain": [
       "0.6513122656668452"
      ]
     },
     "execution_count": 61,
     "metadata": {},
     "output_type": "execute_result"
    }
   ],
   "source": [
    "accuracy_score(y_test, prediction_re)"
   ]
  },
  {
   "cell_type": "code",
   "execution_count": 63,
   "metadata": {},
   "outputs": [
    {
     "name": "stdout",
     "output_type": "stream",
     "text": [
      "              precision    recall  f1-score   support\n",
      "\n",
      "           0       0.40      0.01      0.02       648\n",
      "           1       0.65      0.99      0.79      1219\n",
      "\n",
      "    accuracy                           0.65      1867\n",
      "   macro avg       0.53      0.50      0.40      1867\n",
      "weighted avg       0.57      0.65      0.52      1867\n",
      "\n"
     ]
    }
   ],
   "source": [
    "print(classification_report(y_test, prediction_re))"
   ]
  },
  {
   "cell_type": "code",
   "execution_count": 68,
   "metadata": {},
   "outputs": [
    {
     "data": {
      "text/plain": [
       "<AxesSubplot:>"
      ]
     },
     "execution_count": 68,
     "metadata": {},
     "output_type": "execute_result"
    },
    {
     "data": {
      "image/png": "[encoded data removed]",
      "text/plain": [
       "<Figure size 504x504 with 2 Axes>"
      ]
     },
     "metadata": {
      "needs_background": "light"
     },
     "output_type": "display_data"
    }
   ],
   "source": [
    "fig = plt.figure(figsize=(7, 7))\n",
    "ax = fig.add_subplot(111)\n",
    "sns.heatmap(confusion_matrix(y_test, prediction_re), annot=True, fmt='d', ax=ax)"
   ]
  },
  {
   "cell_type": "code",
   "execution_count": 69,
   "metadata": {},
   "outputs": [
    {
     "data": {
      "text/plain": [
       "<AxesSubplot:xlabel='labels', ylabel='count'>"
      ]
     },
     "execution_count": 69,
     "metadata": {},
     "output_type": "execute_result"
    },
    {
     "data": {
      "image/png": "[encoded data removed]",
      "text/plain": [
       "<Figure size 504x360 with 1 Axes>"
      ]
     },
     "metadata": {
      "needs_background": "light"
     },
     "output_type": "display_data"
    }
   ],
   "source": [
    "fig = plt.figure(figsize=(7, 5))\n",
    "ax = fig.add_subplot(111)\n",
    "sns.countplot(x='labels', data=dataframe_testing)"
   ]
  }
 ],
 "metadata": {
  "interpreter": {
   "hash": "88402b84e49fe8c9b5f4b01a162b8b1da4d6c3daf51524ba34af3ac886cb00e2"
  },
  "kernelspec": {
   "display_name": "Python 3 (ipykernel)",
   "language": "python",
   "name": "python3"
  },
  "language_info": {
   "codemirror_mode": {
    "name": "ipython",
    "version": 3
   },
   "file_extension": ".py",
   "mimetype": "text/x-python",
   "name": "python",
   "nbconvert_exporter": "python",
   "pygments_lexer": "ipython3",
   "version": "3.8.5"
  }
 },
 "nbformat": 4,
 "nbformat_minor": 2
}
